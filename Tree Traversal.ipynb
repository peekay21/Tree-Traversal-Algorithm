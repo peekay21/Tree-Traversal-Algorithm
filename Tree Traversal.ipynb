{
 "cells": [
  {
   "cell_type": "code",
   "execution_count": 1,
   "metadata": {},
   "outputs": [
    {
     "name": "stdout",
     "output_type": "stream",
     "text": [
      "10\n"
     ]
    }
   ],
   "source": [
    "#defining a node\n",
    "class node:\n",
    "    def __init__(self,data):\n",
    "        self.data = data\n",
    "        self.left = None\n",
    "        self.right = None\n",
    "    def printtree(self):\n",
    "        print(self.data)\n",
    "\n",
    "root = node(10)\n",
    "root.printtree()"
   ]
  },
  {
   "cell_type": "code",
   "execution_count": 5,
   "metadata": {},
   "outputs": [
    {
     "name": "stdout",
     "output_type": "stream",
     "text": [
      "3\n",
      "6\n",
      "12\n",
      "14\n"
     ]
    }
   ],
   "source": [
    "# insert a node in tree as binary search tree  \n",
    "\n",
    "class node:\n",
    "    def __init__(self,data):\n",
    "        self.data = data\n",
    "        self.left = None\n",
    "        self.right = None\n",
    "    def insert(self,data):\n",
    "        if data < self.data:\n",
    "            if self.left is None:\n",
    "                self.left = node(data)\n",
    "            else:\n",
    "                self.left.insert(data)\n",
    "        elif data > self.data:\n",
    "            if self.right is None:\n",
    "                self.right = node(data)\n",
    "            else:\n",
    "                self.right.insert(data)\n",
    "        else:\n",
    "            self.data = data\n",
    "    def printtree(self):\n",
    "        if self.left:\n",
    "            self.left.printtree()\n",
    "        print(self.data)\n",
    "        if self.right:\n",
    "            self.right.printtree()\n",
    "            \n",
    "root = node(12)\n",
    "root.insert(6)\n",
    "root.insert(14)\n",
    "root.insert(3)\n",
    "root.printtree()"
   ]
  },
  {
   "cell_type": "code",
   "execution_count": 12,
   "metadata": {},
   "outputs": [
    {
     "name": "stdout",
     "output_type": "stream",
     "text": [
      "\n",
      "Inorder Traverval -  D B E A F C G \n",
      "Preorder Traversal -  A B D E C F G \n",
      "Postorder Traversal-  D E B F G C A \n",
      " Levelorder Traversal -  A B C D E F G "
     ]
    }
   ],
   "source": [
    "#traversing a tree : means visit each of tree'node only once.\n",
    "'''\n",
    "Traversal 2 types 1. Depth-First-Traversal i.e - i. Inorder, ii. Preorder, iii. Postorder \n",
    "                  2. Level order Travelsal\n",
    "\n",
    "i. Inorder Traversal means left-->root-->right\n",
    "2. Preorder Traversal means root-->left-->right\n",
    "3. Postorder Traversal means left-->right-->root\n",
    "'''\n",
    "\n",
    "class node:\n",
    "    def __init__(self,data):\n",
    "        self.data = data\n",
    "        self.left = None\n",
    "        self.right = None\n",
    "    \n",
    "    def inorder(self):\n",
    "        if self:\n",
    "            if self.left:\n",
    "                self.left.inorder()\n",
    "            print(self.data, end =' ')\n",
    "            \n",
    "            if self.right:\n",
    "                self.right.inorder()\n",
    "        else:\n",
    "            return\n",
    "    \n",
    "    def preorder(self):\n",
    "        if self:\n",
    "            print(self.data,end = ' ')\n",
    "        if self.left:\n",
    "            self.left.preorder()\n",
    "        if self.right:\n",
    "            self.right.preorder()\n",
    "        return \n",
    "    \n",
    "    def postorder(self):\n",
    "        if self:\n",
    "            if self.left:\n",
    "                self.left.postorder()\n",
    "            if self.right:\n",
    "                self.right.postorder()\n",
    "            print(self.data,end=' ')\n",
    "        return\n",
    "    def levelorder(self):\n",
    "    \n",
    "        if self:\n",
    "            que =[]\n",
    "            que.append(self)\n",
    "            while len(que):\n",
    "                n = len(que)\n",
    "                for i in range(0,n):\n",
    "\n",
    "                    print(que[0].data,end=' ')\n",
    "                    u = que[0]\n",
    "                    if u.left:\n",
    "                        que.append(u.left)\n",
    "                    if u.right:\n",
    "                        que.append(u.right)\n",
    "                    que.pop(0)\n",
    "\n",
    "            return\n",
    "\n",
    "'''\n",
    "                    A\n",
    "                  /   \\\n",
    "                 B     C\n",
    "                / \\    / \\\n",
    "               D   E   F  G\n",
    "'''\n",
    "root = node('A')\n",
    "root.left = node('B')\n",
    "root.right = node('C')\n",
    "root.left.left = node('D')\n",
    "root.left.right = node('E')\n",
    "root.right.left = node('F')\n",
    "root.right.right = node('G')\n",
    "\n",
    "print('\\nInorder Traverval - ', end =' ')\n",
    "root.inorder()\n",
    "print('\\nPreorder Traversal - ', end =' ')\n",
    "root.preorder()\n",
    "print('\\nPostorder Traversal- ', end =' ')\n",
    "root.postorder()\n",
    "print('\\n Levelorder Traversal - ',end=' ')\n",
    "root.levelorder()"
   ]
  },
  {
   "cell_type": "code",
   "execution_count": 10,
   "metadata": {},
   "outputs": [],
   "source": [
    "def levelorder(self):\n",
    "    \n",
    "    if self:\n",
    "        que =[]\n",
    "        que.append(self)\n",
    "        while len(que):\n",
    "            n = len(que)\n",
    "            for i in range(0,n):\n",
    "\n",
    "                print(que[0].data,end=' ')\n",
    "                u = que[0]\n",
    "                if u.left:\n",
    "                    que.append(u.left)\n",
    "                if u.right:\n",
    "                    que.append(u.right)\n",
    "                que.pop(0)\n",
    "        \n",
    "        return\n",
    "\n",
    "\n",
    "            \n",
    "            \n",
    "        "
   ]
  },
  {
   "cell_type": "code",
   "execution_count": null,
   "metadata": {},
   "outputs": [],
   "source": []
  }
 ],
 "metadata": {
  "kernelspec": {
   "display_name": "Python [conda env:deeplearning] *",
   "language": "python",
   "name": "conda-env-deeplearning-py"
  },
  "language_info": {
   "codemirror_mode": {
    "name": "ipython",
    "version": 3
   },
   "file_extension": ".py",
   "mimetype": "text/x-python",
   "name": "python",
   "nbconvert_exporter": "python",
   "pygments_lexer": "ipython3",
   "version": "3.7.7"
  }
 },
 "nbformat": 4,
 "nbformat_minor": 4
}
